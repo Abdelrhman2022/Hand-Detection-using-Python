{
 "cells": [
  {
   "cell_type": "code",
   "execution_count": 1,
   "id": "b9d2afb0",
   "metadata": {},
   "outputs": [],
   "source": [
    "## pip install opencv-python, cvzone, numpy ##\n",
    "import math\n",
    "import cv2\n",
    "from cvzone.HandTrackingModule import HandDetector"
   ]
  },
  {
   "cell_type": "code",
   "execution_count": 2,
   "id": "4a040a82",
   "metadata": {},
   "outputs": [],
   "source": [
    "detector = HandDetector()\n",
    "\n",
    "\n",
    "cap = cv2.VideoCapture(0)\n",
    "cap.set(cv2.CAP_PROP_FRAME_HEIGHT, 720)\n",
    "cap.set(cv2.CAP_PROP_FRAME_WIDTH, 1280)\n",
    "shield = cv2.VideoCapture(\"shield.mp4\")"
   ]
  },
  {
   "cell_type": "code",
   "execution_count": 3,
   "id": "31e5fd7b",
   "metadata": {},
   "outputs": [],
   "source": [
    "def mapFromTo(x,a,b,c,d):\n",
    "    return (x-a)/(b-a)*(d-c)+c"
   ]
  },
  {
   "cell_type": "code",
   "execution_count": 4,
   "id": "200b814d",
   "metadata": {},
   "outputs": [],
   "source": [
    "def Overlay (background, overlay, x, y, size):\n",
    "    background_h, background_w, c = background.shape\n",
    "    imgScale = mapFromTo(size, 200, 20, 1.5, 0.2)\n",
    "    overlay = cv2.resize(overlay, (0, 0), fx=imgScale, fy=imgScale)\n",
    "    h, w, c = overlay.shape\n",
    "    try:\n",
    "        if x + w/2 >= background_w or y + h/2 >= background_h or x - w/2 <= 0 or y - h/2 <= 0:\n",
    "            return background\n",
    "        else:\n",
    "            overlayImage = overlay[..., :3]\n",
    "            mask = overlay / 255.0\n",
    "            background[int(y-h/2):int(y+h/2), int(x-w/2):int(x+w/2)] = (1-mask)*background[int(y-h/2):int(y+h/2), int(x-w/2):int(x+w/2)] + overlay\n",
    "            return background\n",
    "    except:\n",
    "        return background"
   ]
  },
  {
   "cell_type": "code",
   "execution_count": 5,
   "id": "8665c628",
   "metadata": {},
   "outputs": [],
   "source": [
    "def findDistance(point1, point2):\n",
    "    return math.sqrt((point1[0] - point2[0])**2 + (point1[1] - point2[1])**2)"
   ]
  },
  {
   "cell_type": "code",
   "execution_count": 6,
   "id": "040eda10",
   "metadata": {},
   "outputs": [],
   "source": [
    "\n",
    "showShield = True\n",
    "changeTimer = 0"
   ]
  },
  {
   "cell_type": "code",
   "execution_count": null,
   "id": "497e747c",
   "metadata": {},
   "outputs": [],
   "source": [
    "while True:\n",
    "    success, img = cap.read()\n",
    "    hands = detector.findHands(img, False)\n",
    "    final = img\n",
    "    if hands:\n",
    "        success, shieldImage = shield.read()\n",
    "        if not success:\n",
    "            shield.set(cv2.CAP_PROP_POS_FRAMES, 0)\n",
    "            success, shieldImage = shield.read()\n",
    "\n",
    "    if len(hands) == 2:\n",
    "        changeTimer += 1\n",
    "        if findDistance(hands[0][\"lmList\"][9], hands[1][\"lmList\"][9]) < 30:\n",
    "            if changeTimer > 100:\n",
    "                if showShield == False:\n",
    "                    showShield = True\n",
    "                    changeTimer = 0\n",
    "                else:\n",
    "                    showShield = False\n",
    "                    changeTimer = 0\n",
    "        if showShield:\n",
    "            for hand in hands:\n",
    "                bbox = hand[\"bbox\"]\n",
    "                handSize = bbox[2]\n",
    "                cx, cy = hand[\"center\"]\n",
    "                if 1 in detector.fingersUp(hand):\n",
    "                    final = Overlay(img, shieldImage, cx, cy, handSize)\n",
    "\n",
    "    elif len(hands) == 1:\n",
    "        for hand in hands:\n",
    "            bbox = hand[\"bbox\"]\n",
    "            handSize = bbox[2]\n",
    "            cx, cy = hand[\"center\"]\n",
    "            if 1 in detector.fingersUp(hand):\n",
    "                final = Overlay(img, shieldImage, cx, cy, handSize)\n",
    "    cv2.imshow(\"Doctor Strange\", cv2.flip(final, 1))\n",
    "    cv2.waitKey(2)\n"
   ]
  },
  {
   "cell_type": "code",
   "execution_count": null,
   "id": "9c3331fb",
   "metadata": {},
   "outputs": [],
   "source": []
  }
 ],
 "metadata": {
  "kernelspec": {
   "display_name": "Python 3 (ipykernel)",
   "language": "python",
   "name": "python3"
  },
  "language_info": {
   "codemirror_mode": {
    "name": "ipython",
    "version": 3
   },
   "file_extension": ".py",
   "mimetype": "text/x-python",
   "name": "python",
   "nbconvert_exporter": "python",
   "pygments_lexer": "ipython3",
   "version": "3.7.13"
  }
 },
 "nbformat": 4,
 "nbformat_minor": 5
}
